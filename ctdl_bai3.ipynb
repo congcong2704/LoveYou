{
  "nbformat": 4,
  "nbformat_minor": 0,
  "metadata": {
    "colab": {
      "provenance": [],
      "collapsed_sections": [],
      "authorship_tag": "ABX9TyP45e4PQlsx1m4l1VllKLNA",
      "include_colab_link": true
    },
    "kernelspec": {
      "name": "python3",
      "display_name": "Python 3"
    },
    "language_info": {
      "name": "python"
    }
  },
  "cells": [
    {
      "cell_type": "markdown",
      "metadata": {
        "id": "view-in-github",
        "colab_type": "text"
      },
      "source": [
        "<a href=\"https://colab.research.google.com/github/congcong2704/LoveYou/blob/main/ctdl_bai3.ipynb\" target=\"_parent\"><img src=\"https://colab.research.google.com/assets/colab-badge.svg\" alt=\"Open In Colab\"/></a>"
      ]
    },
    {
      "cell_type": "code",
      "execution_count": 3,
      "metadata": {
        "colab": {
          "base_uri": "https://localhost:8080/"
        },
        "id": "7Ks4yJwlWAK7",
        "outputId": "92473086-4752-479d-badf-0a06a7892734"
      },
      "outputs": [
        {
          "output_type": "stream",
          "name": "stdout",
          "text": [
            "{'Đại số tuyến tính', 'Thể dục', 'NNLT Python', 'Tiếng Anh chuyên ngành'}\n",
            "{'Tối ưu hóa', 'Computer vision', 'Học Máy', 'Học sâu', 'Natural Language Processing', 'Đại số tuyến tính', 'Recommender Systems', 'NNLT Python'}\n"
          ]
        }
      ],
      "source": [
        "A={'NNLT Python', 'Đại số tuyến tính', 'Tiếng Anh chuyên ngành', 'Thể dục'}\n",
        "B = {'NNLT Python', 'Đại số tuyến tính', 'Tối ưu hóa', 'Học Máy', 'Học sâu', 'Computer vision', 'Natural Language Processing', 'Recommender Systems'}\n",
        "print(A)\n",
        "print(B)"
      ]
    },
    {
      "cell_type": "code",
      "source": [
        "A|B"
      ],
      "metadata": {
        "colab": {
          "base_uri": "https://localhost:8080/"
        },
        "id": "JIIQxv20WSNT",
        "outputId": "16eb2991-c8d1-4bea-99b6-0d0f9a7b1d8d"
      },
      "execution_count": 4,
      "outputs": [
        {
          "output_type": "execute_result",
          "data": {
            "text/plain": [
              "{'Computer vision',\n",
              " 'Học Máy',\n",
              " 'Học sâu',\n",
              " 'NNLT Python',\n",
              " 'Natural Language Processing',\n",
              " 'Recommender Systems',\n",
              " 'Thể dục',\n",
              " 'Tiếng Anh chuyên ngành',\n",
              " 'Tối ưu hóa',\n",
              " 'Đại số tuyến tính'}"
            ]
          },
          "metadata": {},
          "execution_count": 4
        }
      ]
    },
    {
      "cell_type": "code",
      "source": [
        "print(A&B)"
      ],
      "metadata": {
        "colab": {
          "base_uri": "https://localhost:8080/"
        },
        "id": "tMlg2PyQYVtx",
        "outputId": "6b4b30ea-de1d-415e-acbc-d93a77b361e1"
      },
      "execution_count": 6,
      "outputs": [
        {
          "output_type": "stream",
          "name": "stdout",
          "text": [
            "{'Đại số tuyến tính', 'NNLT Python'}\n"
          ]
        }
      ]
    },
    {
      "cell_type": "code",
      "source": [
        "print(A-B)"
      ],
      "metadata": {
        "colab": {
          "base_uri": "https://localhost:8080/"
        },
        "id": "UpqLAVAxYnEy",
        "outputId": "2057b63f-b4cb-4f03-dae7-37c49f539f55"
      },
      "execution_count": 7,
      "outputs": [
        {
          "output_type": "stream",
          "name": "stdout",
          "text": [
            "{'Thể dục', 'Tiếng Anh chuyên ngành'}\n"
          ]
        }
      ]
    },
    {
      "cell_type": "code",
      "source": [
        "print(B-A)"
      ],
      "metadata": {
        "colab": {
          "base_uri": "https://localhost:8080/"
        },
        "id": "mSyz6a9BZY0u",
        "outputId": "480b83f5-1c46-45a1-e688-b527cc1c9409"
      },
      "execution_count": 8,
      "outputs": [
        {
          "output_type": "stream",
          "name": "stdout",
          "text": [
            "{'Tối ưu hóa', 'Computer vision', 'Học Máy', 'Học sâu', 'Natural Language Processing', 'Recommender Systems'}\n"
          ]
        }
      ]
    },
    {
      "cell_type": "code",
      "source": [
        "x = [1, 1, 1, 2, 2, 3, 3 ,3, 4 ,5 ,6, 7]\n",
        "print(x)"
      ],
      "metadata": {
        "colab": {
          "base_uri": "https://localhost:8080/"
        },
        "id": "fPIAXPnbZbEM",
        "outputId": "5a643c14-2345-4658-f7df-2ec89c624a3c"
      },
      "execution_count": 9,
      "outputs": [
        {
          "output_type": "stream",
          "name": "stdout",
          "text": [
            "[1, 1, 1, 2, 2, 3, 3, 3, 4, 5, 6, 7]\n"
          ]
        }
      ]
    },
    {
      "cell_type": "code",
      "source": [
        "t=set(x)\n",
        "print(t)"
      ],
      "metadata": {
        "colab": {
          "base_uri": "https://localhost:8080/"
        },
        "id": "4EwA3DxxZh8S",
        "outputId": "bbbd63ce-2aec-4854-90f0-f220a76c49d9"
      },
      "execution_count": 10,
      "outputs": [
        {
          "output_type": "stream",
          "name": "stdout",
          "text": [
            "{1, 2, 3, 4, 5, 6, 7}\n"
          ]
        }
      ]
    },
    {
      "cell_type": "code",
      "source": [],
      "metadata": {
        "id": "1U6g3BG4ZoYp"
      },
      "execution_count": null,
      "outputs": []
    }
  ]
}